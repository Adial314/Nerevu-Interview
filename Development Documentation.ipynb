{
 "cells": [
  {
   "cell_type": "markdown",
   "metadata": {},
   "source": [
    "# Nerevu Group - Technical Interview\n",
    "\n",
    "Tasks to be completed prior to the technical interview (verbatim):\n",
    "1. Write a Python script that fetches holiday data and saves it as a csv file named \"holidays.csv\". To obtain the data, you can either screen scrape the Time and Date site, or parse the API (free trial account required).\n",
    "2. Using the csv file from (1), write a Python function that returns a list of dictionaries of the next 10 upcoming U.S. holidays and dates.\n",
    "3. Add a keyword argument \"holidayType\" to the function from (2) such that it only returns holidays matching the given type.\n",
    "4. Create a Python powered API that exposes the endpoint, \"/holidays\". A call to this endpoint should return a JSON response with a list of the next 10 upcoming U.S. holidays and dates.\n",
    "5. Extend the API from step (4) to optionally take a query parameter \"holidayType\" and only return holidays matching the given type, e.g., A call to \"/holidays?holidayType=federal\" should have \"Labor Day\" as the first returned holiday.\n",
    "\n",
    "\n",
    "## <a name=\"TOC\"></a> Table of Contents:\n",
    "---\n",
    "1. [ Date & Time API ](#S1)\n",
    "  1. [ Manual Data ](#manual)\n",
    "  2. [ Data Conversion ](#conversion)\n",
    "  3. [Holiday Type Cleanup](#type_cleanup)\n",
    "3. [ Call Upcoming US Holidays ](#S2)\n",
    "4. [ Filter By Holiday Type ](#S3)\n"
   ]
  },
  {
   "cell_type": "code",
   "execution_count": 1,
   "metadata": {},
   "outputs": [],
   "source": [
    "# ------------------------- CONFIGURE ENVIRONMENT ------------------------- #\n",
    "\n",
    "# Environment hard reset\n",
    "%reset -f\n",
    "\n",
    "# Standard math and data libraries\n",
    "import numpy as np\n",
    "import pandas as pd\n",
    "\n",
    "# Plotting libraries\n",
    "import matplotlib.pyplot as plt\n",
    "%matplotlib inline\n",
    "\n",
    "# Libraries for scraping\n",
    "# import requests\n",
    "# import urllib.request\n",
    "# import time\n",
    "# from bs4 import BeautifulSoup\n",
    "# import lxml.html as lh\n",
    "\n",
    "# Date time for date operations\n",
    "import datetime\n",
    "\n",
    "# Levenshtein fuzzy comparisons\n",
    "from fuzzywuzzy import fuzz \n",
    "from fuzzywuzzy import process\n",
    "\n",
    "# Import string cleaning functions\n",
    "import re\n",
    "\n",
    "# Flask support\n",
    "from flask import request, jsonify\n",
    "\n",
    "# Configure paths\n",
    "from pathlib import Path\n",
    "data_path = Path('Datasets')\n"
   ]
  },
  {
   "cell_type": "markdown",
   "metadata": {},
   "source": [
    "### <a name=\"manual\"></a> [Manual Data](#TOC)\n",
    "\n",
    "If I am unable to complete the design of the web scraping system then I can load the data which I copied manually into CSV from the website.\n"
   ]
  },
  {
   "cell_type": "code",
   "execution_count": 2,
   "metadata": {},
   "outputs": [
    {
     "data": {
      "text/html": [
       "<div>\n",
       "<style scoped>\n",
       "    .dataframe tbody tr th:only-of-type {\n",
       "        vertical-align: middle;\n",
       "    }\n",
       "\n",
       "    .dataframe tbody tr th {\n",
       "        vertical-align: top;\n",
       "    }\n",
       "\n",
       "    .dataframe thead th {\n",
       "        text-align: right;\n",
       "    }\n",
       "</style>\n",
       "<table border=\"1\" class=\"dataframe\">\n",
       "  <thead>\n",
       "    <tr style=\"text-align: right;\">\n",
       "      <th></th>\n",
       "      <th>DATE</th>\n",
       "      <th>WEEKDAY</th>\n",
       "      <th>NAME</th>\n",
       "      <th>TYPE</th>\n",
       "      <th>DETAILS</th>\n",
       "    </tr>\n",
       "  </thead>\n",
       "  <tbody>\n",
       "    <tr>\n",
       "      <th>0</th>\n",
       "      <td>1/1/2019</td>\n",
       "      <td>Tuesday</td>\n",
       "      <td>New Year's Day</td>\n",
       "      <td>Federal Holiday</td>\n",
       "      <td>NaN</td>\n",
       "    </tr>\n",
       "    <tr>\n",
       "      <th>1</th>\n",
       "      <td>1/6/2019</td>\n",
       "      <td>Sunday</td>\n",
       "      <td>Epiphany</td>\n",
       "      <td>Christian</td>\n",
       "      <td>NaN</td>\n",
       "    </tr>\n",
       "    <tr>\n",
       "      <th>2</th>\n",
       "      <td>1/7/2019</td>\n",
       "      <td>Monday</td>\n",
       "      <td>Orthodox Christmas Day</td>\n",
       "      <td>Orthodox</td>\n",
       "      <td>NaN</td>\n",
       "    </tr>\n",
       "    <tr>\n",
       "      <th>3</th>\n",
       "      <td>1/13/2019</td>\n",
       "      <td>Sunday</td>\n",
       "      <td>Stephen Foster Memorial Day</td>\n",
       "      <td>Observance</td>\n",
       "      <td>NaN</td>\n",
       "    </tr>\n",
       "    <tr>\n",
       "      <th>4</th>\n",
       "      <td>1/14/2019</td>\n",
       "      <td>Monday</td>\n",
       "      <td>Orthodox New Year</td>\n",
       "      <td>Orthodox</td>\n",
       "      <td>NaN</td>\n",
       "    </tr>\n",
       "  </tbody>\n",
       "</table>\n",
       "</div>"
      ],
      "text/plain": [
       "        DATE  WEEKDAY                         NAME             TYPE DETAILS\n",
       "0   1/1/2019  Tuesday               New Year's Day  Federal Holiday     NaN\n",
       "1   1/6/2019   Sunday                     Epiphany        Christian     NaN\n",
       "2   1/7/2019   Monday       Orthodox Christmas Day         Orthodox     NaN\n",
       "3  1/13/2019   Sunday  Stephen Foster Memorial Day       Observance     NaN\n",
       "4  1/14/2019   Monday            Orthodox New Year         Orthodox     NaN"
      ]
     },
     "execution_count": 2,
     "metadata": {},
     "output_type": "execute_result"
    }
   ],
   "source": [
    "# ------------------------- IMPORT MANUAL DATA ------------------------- #\n",
    "\n",
    "# Import from CSV\n",
    "DataFrame = pd.read_csv(data_path / 'ManualData.csv', encoding = \"utf-8\")\n",
    "\n",
    "# Replace missing with NaN object\n",
    "DataFrame.fillna(np.nan);\n",
    "\n",
    "# See dataframe sample\n",
    "DataFrame.head(5)\n"
   ]
  },
  {
   "cell_type": "markdown",
   "metadata": {},
   "source": [
    "### <a name=\"conversion\"></a> [Data Conversion](#TOC)\n",
    "\n",
    "The CSV is best read as a dataframe but we must convert the system into a list of dictionaries as requested. This can be done with a simple command included as a member function of the Pandas DataFrame. For ease of use, we have to convert the `DATE` column into a DateTime variable.\n"
   ]
  },
  {
   "cell_type": "code",
   "execution_count": 3,
   "metadata": {},
   "outputs": [
    {
     "data": {
      "text/plain": [
       "[{'DATE': Timestamp('2019-01-01 00:00:00'),\n",
       "  'WEEKDAY': 'Tuesday',\n",
       "  'NAME': \"New Year's Day\",\n",
       "  'TYPE': 'Federal Holiday',\n",
       "  'DETAILS': nan},\n",
       " {'DATE': Timestamp('2019-01-06 00:00:00'),\n",
       "  'WEEKDAY': 'Sunday',\n",
       "  'NAME': 'Epiphany',\n",
       "  'TYPE': 'Christian',\n",
       "  'DETAILS': nan}]"
      ]
     },
     "execution_count": 3,
     "metadata": {},
     "output_type": "execute_result"
    }
   ],
   "source": [
    "# ------------------------- CONVERT DATA ------------------------- #\n",
    "\n",
    "# Create Datetime object\n",
    "Dates = pd.to_datetime( DataFrame[[ DataFrame.columns[0] ]].stack() ).unstack()\n",
    "\n",
    "# Replace old dates with Datetime\n",
    "DataFrame[[ DataFrame.columns[0] ]] = Dates[[ Dates.columns[0] ]]\n",
    "\n",
    "# Convert into a list of dictionaries\n",
    "DataDict = DataFrame.to_dict('records');\n",
    "\n",
    "# Inspect a few elements\n",
    "DataDict[0:2]\n"
   ]
  },
  {
   "cell_type": "markdown",
   "metadata": {},
   "source": [
    "### <a name=\"type_cleanup\"></a> [Holiday Type Cleanup](#TOC)\n",
    "\n",
    "There is an issue with the available holiday types which I ran into later in the API development.\n"
   ]
  },
  {
   "cell_type": "code",
   "execution_count": 4,
   "metadata": {},
   "outputs": [
    {
     "data": {
      "text/plain": [
       "array(['Federal Holiday', 'Christian', 'Orthodox', 'Observance',\n",
       "       'State holiday', 'Jewish holiday', 'Sporting event',\n",
       "       'Local observance', 'Observance Christian', 'Hindu Holiday',\n",
       "       'Clock change/Daylight Saving Time', 'Season', 'Muslim',\n",
       "       'Jewish commemoration', 'State Government Holiday',\n",
       "       'Observance Hinduism'], dtype=object)"
      ]
     },
     "execution_count": 4,
     "metadata": {},
     "output_type": "execute_result"
    }
   ],
   "source": [
    "DataFrame[ DataFrame.columns[3] ].unique()"
   ]
  },
  {
   "cell_type": "code",
   "execution_count": 5,
   "metadata": {},
   "outputs": [],
   "source": [
    "def shorten( string ):\n",
    "    return str( string.split()[0] )\n",
    "    \n",
    "DataFrame[ DataFrame.columns[3] ] = DataFrame[ DataFrame.columns[3] ].apply(shorten);"
   ]
  },
  {
   "cell_type": "markdown",
   "metadata": {},
   "source": [
    "## <a name=\"S2\"></a> [§2. Call Upcoming US Holidays](#TOC)\n",
    "---\n",
    "\n",
    "The problem we are tasked with in this section follows:\n",
    "\n",
    "`Using the csv file from (1), write a Python function that returns a list of dictionaries of the next 10 upcoming U.S. holidays and dates.`\n",
    "\n",
    "In this function I will use the global scope of the CSV data, having loaded it using Pandas in a previous section. There is some discussion as to whether the data should be loaded during the fuction call or loaded under a global scope and used by the function. I will test the performance of each approach.\n"
   ]
  },
  {
   "cell_type": "code",
   "execution_count": 6,
   "metadata": {},
   "outputs": [
    {
     "data": {
      "text/plain": [
       "[{'DATE': Timestamp('2019-08-01 00:00:00'),\n",
       "  'WEEKDAY': 'Thursday',\n",
       "  'NAME': 'Colorado Day',\n",
       "  'TYPE': 'Local',\n",
       "  'DETAILS': 'Colorado'},\n",
       " {'DATE': Timestamp('2019-08-04 00:00:00'),\n",
       "  'WEEKDAY': 'Sunday',\n",
       "  'NAME': 'Coast Guard Birthday',\n",
       "  'TYPE': 'Observance',\n",
       "  'DETAILS': nan}]"
      ]
     },
     "execution_count": 6,
     "metadata": {},
     "output_type": "execute_result"
    }
   ],
   "source": [
    "# ------------------------- CALL UPCOMING US HOLIDAYS ------------------------- #\n",
    "\n",
    "def NextHolidays1( date_range = 10 ):\n",
    "    \n",
    "    # Get current day\n",
    "    today = datetime.datetime.today()\n",
    "\n",
    "    # Sort the next dates within the specified range\n",
    "    next_dates = sorted( [d for d in DataFrame[ DataFrame.columns[0] ].tolist() if d > today], key = lambda s: s - today )[ 0 : date_range ]\n",
    "\n",
    "    # Select subset from dataframe\n",
    "    Selection = DataFrame[ DataFrame[ DataFrame.columns[0] ].isin(next_dates) ]\n",
    "    \n",
    "    # Convert to dict-array\n",
    "    return Selection.to_dict('records');\n",
    "\n",
    "\n",
    "# Call function\n",
    "NextHolidays1( 2 )\n"
   ]
  },
  {
   "cell_type": "markdown",
   "metadata": {},
   "source": [
    "This function can call any number of holidays and it updates the current date within the function itself. It is optimized by way of chained methods and lambda functions but it avoids chained indexing with the dataframes as this technique uses two overloaded `__getitem__` calls which drags performance. I have included a `timeit` below to track the performance of the function as well as it's non-Global counter-part."
   ]
  },
  {
   "cell_type": "code",
   "execution_count": 7,
   "metadata": {},
   "outputs": [
    {
     "name": "stdout",
     "output_type": "stream",
     "text": [
      "6.23 ms ± 180 µs per loop (mean ± std. dev. of 7 runs, 100 loops each)\n"
     ]
    }
   ],
   "source": [
    "%timeit NextHolidays1( 1 );"
   ]
  },
  {
   "cell_type": "code",
   "execution_count": 8,
   "metadata": {},
   "outputs": [
    {
     "data": {
      "text/plain": [
       "[{'DATE': Timestamp('2019-08-01 00:00:00'),\n",
       "  'WEEKDAY': 'Thursday',\n",
       "  'NAME': 'Colorado Day',\n",
       "  'TYPE': 'Local observance',\n",
       "  'DETAILS': 'Colorado'},\n",
       " {'DATE': Timestamp('2019-08-04 00:00:00'),\n",
       "  'WEEKDAY': 'Sunday',\n",
       "  'NAME': 'Coast Guard Birthday',\n",
       "  'TYPE': 'Observance',\n",
       "  'DETAILS': nan}]"
      ]
     },
     "execution_count": 8,
     "metadata": {},
     "output_type": "execute_result"
    }
   ],
   "source": [
    "# ------------------------- LOCALLY SCOPED FUNCTION ------------------------- #\n",
    "\n",
    "def NextHolidaysLocal( date_range = 10 ):\n",
    "    \n",
    "    # Get current day\n",
    "    today = datetime.datetime.today()\n",
    "    \n",
    "    # ---------- Loading Data ---------- #\n",
    "    \n",
    "    # Import from CSV\n",
    "    DataFrame = pd.read_csv(data_path / 'ManualData.csv', encoding = \"utf-8\")\n",
    "\n",
    "    # Replace missing with NaN object\n",
    "    DataFrame.fillna(np.nan);\n",
    "    \n",
    "    # Create Datetime object\n",
    "    Dates = pd.to_datetime( DataFrame[[ DataFrame.columns[0] ]].stack() ).unstack()\n",
    "\n",
    "    # Replace old dates with Datetime\n",
    "    DataFrame[[ DataFrame.columns[0] ]] = Dates[[ Dates.columns[0] ]]\n",
    "    \n",
    "    # ---------- Find Holidays ---------- #\n",
    "\n",
    "    # Sort the next dates within the specified range\n",
    "    next_dates = sorted( [d for d in DataFrame[ DataFrame.columns[0] ].tolist() if d > today], key = lambda s: s - today )[ 0 : date_range ]\n",
    "\n",
    "    # Select subset from dataframe\n",
    "    Selection = DataFrame[ DataFrame[ DataFrame.columns[0] ].isin(next_dates) ]\n",
    "    \n",
    "    # Convert to dict-array \n",
    "    return Selection.to_dict('records');\n",
    "\n",
    "\n",
    "# Call function\n",
    "NextHolidaysLocal( 2 )\n"
   ]
  },
  {
   "cell_type": "code",
   "execution_count": 9,
   "metadata": {},
   "outputs": [
    {
     "name": "stdout",
     "output_type": "stream",
     "text": [
      "63.4 ms ± 6.06 ms per loop (mean ± std. dev. of 7 runs, 10 loops each)\n"
     ]
    }
   ],
   "source": [
    "%timeit NextHolidaysLocal( 1 );"
   ]
  },
  {
   "cell_type": "markdown",
   "metadata": {},
   "source": [
    "It looks like the performance of the global scope was superior, unsurprisingly, and by a factor of more than 10. In an API we might have to bite the bullet and use the locally scoped function but I have developed both nonetheless."
   ]
  },
  {
   "cell_type": "markdown",
   "metadata": {},
   "source": [
    "## <a name=\"S3\"></a> [§3. Filter By Holiday Type](#TOC)\n",
    "---\n",
    "\n",
    "The problem we are tasked with in this section follows:\n",
    "\n",
    "`Add a keyword argument \"holidayType\" to the function from (2) such that it only returns holidays matching the given type.`\n",
    "\n",
    "This is simple when the previous function is treating the holiday data as a dataframe until converting it into an array of dicts, as the dataframe is easier to navigate.\n"
   ]
  },
  {
   "cell_type": "code",
   "execution_count": 10,
   "metadata": {},
   "outputs": [
    {
     "data": {
      "text/plain": [
       "[{'DATE': Timestamp('2019-09-02 00:00:00'),\n",
       "  'WEEKDAY': 'Monday',\n",
       "  'NAME': 'Labor Day',\n",
       "  'TYPE': 'Federal',\n",
       "  'DETAILS': nan}]"
      ]
     },
     "execution_count": 10,
     "metadata": {},
     "output_type": "execute_result"
    }
   ],
   "source": [
    "# ------------------------- FILTER BY HOLIDAY TYPE ------------------------- #\n",
    "\n",
    "def NextHolidays2( date_range = 10, holidayType = None ):\n",
    "    \n",
    "    # Get current day\n",
    "    today = datetime.datetime.today()\n",
    "\n",
    "    # Sort the next dates within the specified range\n",
    "    next_dates = sorted( [d for d in DataFrame[ DataFrame.columns[0] ].tolist() if d > today], key = lambda s: s - today )[ 0 : date_range ]\n",
    "\n",
    "    # Select subset from dataframe\n",
    "    if holidayType is None:\n",
    "        Selection = DataFrame[ DataFrame[ DataFrame.columns[0] ].isin(next_dates) ]\n",
    "    else:\n",
    "        Selection = DataFrame[ DataFrame[ DataFrame.columns[0] ].isin(next_dates) ].loc[ DataFrame[ DataFrame.columns[3] ] == holidayType ]\n",
    "    \n",
    "    # Convert to dict-array\n",
    "    return Selection.to_dict('records');\n",
    "\n",
    "\n",
    "# Call function\n",
    "NextHolidays2( 20, \"Federal\" )\n"
   ]
  },
  {
   "cell_type": "markdown",
   "metadata": {},
   "source": [
    "This is good, but not good enough. Even I had trouble testing it because the capitalization rules are not consistent throughout the holiday type field. What I really need is fuzzy logic to find a good match between user input and determine when the user is truly entering invalid input such as `holidayType = \"Captains Log\"` versus mismatched input such as `holidayType = \"Federal holiday\"` when they meant to search for `Federal Holiday`. This will also catch misspellings, which is useful for almost all APIs that involve human interaction in a fast paced business world where spelling is becoming more promiment an issue."
   ]
  },
  {
   "cell_type": "code",
   "execution_count": 11,
   "metadata": {},
   "outputs": [
    {
     "name": "stdout",
     "output_type": "stream",
     "text": [
      "Option: holidayType : Federal\n"
     ]
    },
    {
     "data": {
      "text/plain": [
       "[{'DATE': Timestamp('2019-09-02 00:00:00'),\n",
       "  'WEEKDAY': 'Monday',\n",
       "  'NAME': 'Labor Day',\n",
       "  'TYPE': 'Federal',\n",
       "  'DETAILS': nan},\n",
       " {'DATE': Timestamp('2019-10-14 00:00:00'),\n",
       "  'WEEKDAY': 'Monday',\n",
       "  'NAME': 'Columbus Day',\n",
       "  'TYPE': 'Federal',\n",
       "  'DETAILS': 'All except\\xa0AK\\xa0AR\\xa0CA\\xa0DE\\xa0FL\\xa0HI\\xa0MI\\xa0MN\\xa0ND\\xa0NM\\xa0NV\\xa0OR\\xa0SD\\xa0TX\\xa0VT\\xa0WA\\xa0WY'},\n",
       " {'DATE': Timestamp('2019-11-11 00:00:00'),\n",
       "  'WEEKDAY': 'Monday',\n",
       "  'NAME': 'Veterans Day',\n",
       "  'TYPE': 'Federal',\n",
       "  'DETAILS': nan}]"
      ]
     },
     "execution_count": 11,
     "metadata": {},
     "output_type": "execute_result"
    }
   ],
   "source": [
    "# ------------------------- FUZZY FILTER BY HOLIDAY TYPE ------------------------- #\n",
    "\n",
    "def NextHolidays2Fuzzy( record_count = 10, holiday_type = None ):\n",
    "    \n",
    "    # ---------- Settings / Setup ---------- #\n",
    "\n",
    "    # Fuzzy logic tolerances\n",
    "    threshold = 60\n",
    "\n",
    "    # Get current day\n",
    "    today = datetime.datetime.today()\n",
    "\n",
    "    # ---------- Handle date_range ---------- #\n",
    "\n",
    "    # If num then cast to int for safety\n",
    "    if record_count: record_count = int(record_count)\n",
    "\n",
    "    # Sort the next dates within the specified range\n",
    "    next_dates = sorted( [d for d in DataFrame[ DataFrame.columns[0] ].tolist() if d > today], key = lambda s: s - today )[ 0 : record_count ]\n",
    "\n",
    "    # ---------- Handle holidayType ---------- #\n",
    "\n",
    "    # Handle holidayType optionality\n",
    "    if holiday_type:\n",
    "\n",
    "        # Pass argument to local variable\n",
    "        holiday_type = holiday_type\n",
    "\n",
    "        # Clean numbers and special characters from query\n",
    "        holiday_type = re.sub('[!@#$%^&*()0123456789<>,./?;:]', '', holiday_type)\n",
    "\n",
    "        # Setup fuzzy logic comparisons\n",
    "        similarity = np.array([])\n",
    "        selected_type = np.nan\n",
    "\n",
    "        # Iteratively compare the holidayType with the available options\n",
    "        for option in DataFrame[ DataFrame.columns[3] ].unique():\n",
    "            similarity = np.append( similarity, fuzz.ratio( holiday_type, option) )\n",
    "\n",
    "        # Test for acceptable matches\n",
    "        if max(similarity) >= threshold:\n",
    "            selected_type = DataFrame[ DataFrame.columns[3] ].unique()[ np.argmax( similarity ) ]\n",
    "\n",
    "        # Shoutout for debugging\n",
    "        print(\"Option: holidayType : {}\".format( selected_type ))\n",
    "\n",
    "        # Run selection\n",
    "        Selection = DataFrame.loc[ DataFrame[ DataFrame.columns[3] ] == selected_type ].loc[ DataFrame[ DataFrame.columns[0] ] > today ][ 0 : record_count ]\n",
    "\n",
    "    else:\n",
    "        # Run selection without holidayType\n",
    "        Selection = DataFrame[ DataFrame[ DataFrame.columns[0] ].isin(next_dates) ]\n",
    "        \n",
    "    # Convert to dict-array then to JSON and return\n",
    "    return Selection.to_dict('records');\n",
    "\n",
    "\n",
    "# ---------- DEMONSTRATION ---------- #\n",
    "\n",
    "# Call function\n",
    "NextHolidays2Fuzzy( 3, \"Federal\" )\n"
   ]
  },
  {
   "cell_type": "markdown",
   "metadata": {},
   "source": [
    "Lit. This is really cool, I like this a lot. I really wish that programmers regularly anticipated users with my *stile of speling* and used fuzzy-logic to keep the flow steady."
   ]
  },
  {
   "cell_type": "markdown",
   "metadata": {},
   "source": [
    "*Written by Austin Dial on 7/25. Edited on 7/26, 7/27, and 7/28.*"
   ]
  }
 ],
 "metadata": {
  "kernelspec": {
   "display_name": "Python 3",
   "language": "python",
   "name": "python3"
  },
  "language_info": {
   "codemirror_mode": {
    "name": "ipython",
    "version": 3
   },
   "file_extension": ".py",
   "mimetype": "text/x-python",
   "name": "python",
   "nbconvert_exporter": "python",
   "pygments_lexer": "ipython3",
   "version": "3.7.3"
  }
 },
 "nbformat": 4,
 "nbformat_minor": 2
}
